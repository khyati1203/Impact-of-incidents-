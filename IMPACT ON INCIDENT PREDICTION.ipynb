{
 "cells": [
  {
   "cell_type": "code",
   "execution_count": 1,
   "id": "7104f71e",
   "metadata": {},
   "outputs": [],
   "source": [
    "\n",
    "import pandas as pd\n",
    "import numpy as np\n",
    "import seaborn as sns\n",
    "import matplotlib. pyplot as plt\n",
    "%matplotlib inline"
   ]
  },
  {
   "cell_type": "markdown",
   "id": "89702443",
   "metadata": {},
   "source": [
    "# Load the dataset"
   ]
  },
  {
   "cell_type": "code",
   "execution_count": 2,
   "id": "d333120f",
   "metadata": {},
   "outputs": [],
   "source": [
    "pd.set_option('display.max_columns', None)"
   ]
  },
  {
   "cell_type": "code",
   "execution_count": 3,
   "id": "59796353",
   "metadata": {},
   "outputs": [
    {
     "data": {
      "text/html": [
       "<div>\n",
       "<style scoped>\n",
       "    .dataframe tbody tr th:only-of-type {\n",
       "        vertical-align: middle;\n",
       "    }\n",
       "\n",
       "    .dataframe tbody tr th {\n",
       "        vertical-align: top;\n",
       "    }\n",
       "\n",
       "    .dataframe thead th {\n",
       "        text-align: right;\n",
       "    }\n",
       "</style>\n",
       "<table border=\"1\" class=\"dataframe\">\n",
       "  <thead>\n",
       "    <tr style=\"text-align: right;\">\n",
       "      <th></th>\n",
       "      <th>number</th>\n",
       "      <th>incident_state</th>\n",
       "      <th>active</th>\n",
       "      <th>reassignment_count</th>\n",
       "      <th>reopen_count</th>\n",
       "      <th>sys_mod_count</th>\n",
       "      <th>made_sla</th>\n",
       "      <th>caller_id</th>\n",
       "      <th>opened_by</th>\n",
       "      <th>opened_at</th>\n",
       "      <th>sys_created_by</th>\n",
       "      <th>sys_created_at</th>\n",
       "      <th>sys_updated_by</th>\n",
       "      <th>sys_updated_at</th>\n",
       "      <th>contact_type</th>\n",
       "      <th>location</th>\n",
       "      <th>category</th>\n",
       "      <th>subcategory</th>\n",
       "      <th>u_symptom</th>\n",
       "      <th>cmdb_ci</th>\n",
       "      <th>impact</th>\n",
       "      <th>urgency</th>\n",
       "      <th>priority</th>\n",
       "      <th>assignment_group</th>\n",
       "      <th>assigned_to</th>\n",
       "      <th>knowledge</th>\n",
       "      <th>u_priority_confirmation</th>\n",
       "      <th>notify</th>\n",
       "      <th>problem_id</th>\n",
       "      <th>rfc</th>\n",
       "      <th>vendor</th>\n",
       "      <th>caused_by</th>\n",
       "      <th>closed_code</th>\n",
       "      <th>resolved_by</th>\n",
       "      <th>resolved_at</th>\n",
       "      <th>closed_at</th>\n",
       "    </tr>\n",
       "  </thead>\n",
       "  <tbody>\n",
       "    <tr>\n",
       "      <th>0</th>\n",
       "      <td>INC0000045</td>\n",
       "      <td>New</td>\n",
       "      <td>True</td>\n",
       "      <td>0</td>\n",
       "      <td>0</td>\n",
       "      <td>0</td>\n",
       "      <td>True</td>\n",
       "      <td>Caller 2403</td>\n",
       "      <td>Opened by  8</td>\n",
       "      <td>29/2/2016 01:16</td>\n",
       "      <td>Created by 6</td>\n",
       "      <td>29/2/2016 01:23</td>\n",
       "      <td>Updated by 21</td>\n",
       "      <td>29/2/2016 01:23</td>\n",
       "      <td>Phone</td>\n",
       "      <td>Location 143</td>\n",
       "      <td>Category 55</td>\n",
       "      <td>Subcategory 170</td>\n",
       "      <td>Symptom 72</td>\n",
       "      <td>?</td>\n",
       "      <td>2 - Medium</td>\n",
       "      <td>2 - Medium</td>\n",
       "      <td>3 - Moderate</td>\n",
       "      <td>Group 56</td>\n",
       "      <td>?</td>\n",
       "      <td>True</td>\n",
       "      <td>False</td>\n",
       "      <td>Do Not Notify</td>\n",
       "      <td>?</td>\n",
       "      <td>?</td>\n",
       "      <td>?</td>\n",
       "      <td>?</td>\n",
       "      <td>code 5</td>\n",
       "      <td>Resolved by 149</td>\n",
       "      <td>29/2/2016 11:29</td>\n",
       "      <td>5/3/2016 12:00</td>\n",
       "    </tr>\n",
       "    <tr>\n",
       "      <th>1</th>\n",
       "      <td>INC0000045</td>\n",
       "      <td>Resolved</td>\n",
       "      <td>True</td>\n",
       "      <td>0</td>\n",
       "      <td>0</td>\n",
       "      <td>2</td>\n",
       "      <td>True</td>\n",
       "      <td>Caller 2403</td>\n",
       "      <td>Opened by  8</td>\n",
       "      <td>29/2/2016 01:16</td>\n",
       "      <td>Created by 6</td>\n",
       "      <td>29/2/2016 01:23</td>\n",
       "      <td>Updated by 642</td>\n",
       "      <td>29/2/2016 08:53</td>\n",
       "      <td>Phone</td>\n",
       "      <td>Location 143</td>\n",
       "      <td>Category 55</td>\n",
       "      <td>Subcategory 170</td>\n",
       "      <td>Symptom 72</td>\n",
       "      <td>?</td>\n",
       "      <td>2 - Medium</td>\n",
       "      <td>2 - Medium</td>\n",
       "      <td>3 - Moderate</td>\n",
       "      <td>Group 56</td>\n",
       "      <td>?</td>\n",
       "      <td>True</td>\n",
       "      <td>False</td>\n",
       "      <td>Do Not Notify</td>\n",
       "      <td>?</td>\n",
       "      <td>?</td>\n",
       "      <td>?</td>\n",
       "      <td>?</td>\n",
       "      <td>code 5</td>\n",
       "      <td>Resolved by 149</td>\n",
       "      <td>29/2/2016 11:29</td>\n",
       "      <td>5/3/2016 12:00</td>\n",
       "    </tr>\n",
       "    <tr>\n",
       "      <th>2</th>\n",
       "      <td>INC0000045</td>\n",
       "      <td>Resolved</td>\n",
       "      <td>True</td>\n",
       "      <td>0</td>\n",
       "      <td>0</td>\n",
       "      <td>3</td>\n",
       "      <td>True</td>\n",
       "      <td>Caller 2403</td>\n",
       "      <td>Opened by  8</td>\n",
       "      <td>29/2/2016 01:16</td>\n",
       "      <td>Created by 6</td>\n",
       "      <td>29/2/2016 01:23</td>\n",
       "      <td>Updated by 804</td>\n",
       "      <td>29/2/2016 11:29</td>\n",
       "      <td>Phone</td>\n",
       "      <td>Location 143</td>\n",
       "      <td>Category 55</td>\n",
       "      <td>Subcategory 170</td>\n",
       "      <td>Symptom 72</td>\n",
       "      <td>?</td>\n",
       "      <td>2 - Medium</td>\n",
       "      <td>2 - Medium</td>\n",
       "      <td>3 - Moderate</td>\n",
       "      <td>Group 56</td>\n",
       "      <td>?</td>\n",
       "      <td>True</td>\n",
       "      <td>False</td>\n",
       "      <td>Do Not Notify</td>\n",
       "      <td>?</td>\n",
       "      <td>?</td>\n",
       "      <td>?</td>\n",
       "      <td>?</td>\n",
       "      <td>code 5</td>\n",
       "      <td>Resolved by 149</td>\n",
       "      <td>29/2/2016 11:29</td>\n",
       "      <td>5/3/2016 12:00</td>\n",
       "    </tr>\n",
       "    <tr>\n",
       "      <th>3</th>\n",
       "      <td>INC0000045</td>\n",
       "      <td>Closed</td>\n",
       "      <td>False</td>\n",
       "      <td>0</td>\n",
       "      <td>0</td>\n",
       "      <td>4</td>\n",
       "      <td>True</td>\n",
       "      <td>Caller 2403</td>\n",
       "      <td>Opened by  8</td>\n",
       "      <td>29/2/2016 01:16</td>\n",
       "      <td>Created by 6</td>\n",
       "      <td>29/2/2016 01:23</td>\n",
       "      <td>Updated by 908</td>\n",
       "      <td>5/3/2016 12:00</td>\n",
       "      <td>Phone</td>\n",
       "      <td>Location 143</td>\n",
       "      <td>Category 55</td>\n",
       "      <td>Subcategory 170</td>\n",
       "      <td>Symptom 72</td>\n",
       "      <td>?</td>\n",
       "      <td>2 - Medium</td>\n",
       "      <td>2 - Medium</td>\n",
       "      <td>3 - Moderate</td>\n",
       "      <td>Group 56</td>\n",
       "      <td>?</td>\n",
       "      <td>True</td>\n",
       "      <td>False</td>\n",
       "      <td>Do Not Notify</td>\n",
       "      <td>?</td>\n",
       "      <td>?</td>\n",
       "      <td>?</td>\n",
       "      <td>?</td>\n",
       "      <td>code 5</td>\n",
       "      <td>Resolved by 149</td>\n",
       "      <td>29/2/2016 11:29</td>\n",
       "      <td>5/3/2016 12:00</td>\n",
       "    </tr>\n",
       "    <tr>\n",
       "      <th>4</th>\n",
       "      <td>INC0000047</td>\n",
       "      <td>New</td>\n",
       "      <td>True</td>\n",
       "      <td>0</td>\n",
       "      <td>0</td>\n",
       "      <td>0</td>\n",
       "      <td>True</td>\n",
       "      <td>Caller 2403</td>\n",
       "      <td>Opened by  397</td>\n",
       "      <td>29/2/2016 04:40</td>\n",
       "      <td>Created by 171</td>\n",
       "      <td>29/2/2016 04:57</td>\n",
       "      <td>Updated by 746</td>\n",
       "      <td>29/2/2016 04:57</td>\n",
       "      <td>Phone</td>\n",
       "      <td>Location 165</td>\n",
       "      <td>Category 40</td>\n",
       "      <td>Subcategory 215</td>\n",
       "      <td>Symptom 471</td>\n",
       "      <td>?</td>\n",
       "      <td>2 - Medium</td>\n",
       "      <td>2 - Medium</td>\n",
       "      <td>3 - Moderate</td>\n",
       "      <td>Group 70</td>\n",
       "      <td>Resolver 89</td>\n",
       "      <td>True</td>\n",
       "      <td>False</td>\n",
       "      <td>Do Not Notify</td>\n",
       "      <td>?</td>\n",
       "      <td>?</td>\n",
       "      <td>?</td>\n",
       "      <td>?</td>\n",
       "      <td>code 5</td>\n",
       "      <td>Resolved by 81</td>\n",
       "      <td>1/3/2016 09:52</td>\n",
       "      <td>6/3/2016 10:00</td>\n",
       "    </tr>\n",
       "  </tbody>\n",
       "</table>\n",
       "</div>"
      ],
      "text/plain": [
       "       number incident_state  active  reassignment_count  reopen_count  \\\n",
       "0  INC0000045            New    True                   0             0   \n",
       "1  INC0000045       Resolved    True                   0             0   \n",
       "2  INC0000045       Resolved    True                   0             0   \n",
       "3  INC0000045         Closed   False                   0             0   \n",
       "4  INC0000047            New    True                   0             0   \n",
       "\n",
       "   sys_mod_count  made_sla    caller_id       opened_by        opened_at  \\\n",
       "0              0      True  Caller 2403    Opened by  8  29/2/2016 01:16   \n",
       "1              2      True  Caller 2403    Opened by  8  29/2/2016 01:16   \n",
       "2              3      True  Caller 2403    Opened by  8  29/2/2016 01:16   \n",
       "3              4      True  Caller 2403    Opened by  8  29/2/2016 01:16   \n",
       "4              0      True  Caller 2403  Opened by  397  29/2/2016 04:40   \n",
       "\n",
       "   sys_created_by   sys_created_at  sys_updated_by   sys_updated_at  \\\n",
       "0    Created by 6  29/2/2016 01:23   Updated by 21  29/2/2016 01:23   \n",
       "1    Created by 6  29/2/2016 01:23  Updated by 642  29/2/2016 08:53   \n",
       "2    Created by 6  29/2/2016 01:23  Updated by 804  29/2/2016 11:29   \n",
       "3    Created by 6  29/2/2016 01:23  Updated by 908   5/3/2016 12:00   \n",
       "4  Created by 171  29/2/2016 04:57  Updated by 746  29/2/2016 04:57   \n",
       "\n",
       "  contact_type      location     category      subcategory    u_symptom  \\\n",
       "0        Phone  Location 143  Category 55  Subcategory 170   Symptom 72   \n",
       "1        Phone  Location 143  Category 55  Subcategory 170   Symptom 72   \n",
       "2        Phone  Location 143  Category 55  Subcategory 170   Symptom 72   \n",
       "3        Phone  Location 143  Category 55  Subcategory 170   Symptom 72   \n",
       "4        Phone  Location 165  Category 40  Subcategory 215  Symptom 471   \n",
       "\n",
       "  cmdb_ci      impact     urgency      priority assignment_group  assigned_to  \\\n",
       "0       ?  2 - Medium  2 - Medium  3 - Moderate         Group 56            ?   \n",
       "1       ?  2 - Medium  2 - Medium  3 - Moderate         Group 56            ?   \n",
       "2       ?  2 - Medium  2 - Medium  3 - Moderate         Group 56            ?   \n",
       "3       ?  2 - Medium  2 - Medium  3 - Moderate         Group 56            ?   \n",
       "4       ?  2 - Medium  2 - Medium  3 - Moderate         Group 70  Resolver 89   \n",
       "\n",
       "   knowledge  u_priority_confirmation         notify problem_id rfc vendor  \\\n",
       "0       True                    False  Do Not Notify          ?   ?      ?   \n",
       "1       True                    False  Do Not Notify          ?   ?      ?   \n",
       "2       True                    False  Do Not Notify          ?   ?      ?   \n",
       "3       True                    False  Do Not Notify          ?   ?      ?   \n",
       "4       True                    False  Do Not Notify          ?   ?      ?   \n",
       "\n",
       "  caused_by closed_code      resolved_by      resolved_at       closed_at  \n",
       "0         ?      code 5  Resolved by 149  29/2/2016 11:29  5/3/2016 12:00  \n",
       "1         ?      code 5  Resolved by 149  29/2/2016 11:29  5/3/2016 12:00  \n",
       "2         ?      code 5  Resolved by 149  29/2/2016 11:29  5/3/2016 12:00  \n",
       "3         ?      code 5  Resolved by 149  29/2/2016 11:29  5/3/2016 12:00  \n",
       "4         ?      code 5   Resolved by 81   1/3/2016 09:52  6/3/2016 10:00  "
      ]
     },
     "execution_count": 3,
     "metadata": {},
     "output_type": "execute_result"
    }
   ],
   "source": [
    "data=pd.read_csv(\"incident_event_log.csv\")\n",
    "data.head()"
   ]
  },
  {
   "cell_type": "code",
   "execution_count": 4,
   "id": "0a290d96",
   "metadata": {},
   "outputs": [
    {
     "name": "stdout",
     "output_type": "stream",
     "text": [
      "<class 'pandas.core.frame.DataFrame'>\n",
      "RangeIndex: 141712 entries, 0 to 141711\n",
      "Data columns (total 36 columns):\n",
      " #   Column                   Non-Null Count   Dtype \n",
      "---  ------                   --------------   ----- \n",
      " 0   number                   141712 non-null  object\n",
      " 1   incident_state           141712 non-null  object\n",
      " 2   active                   141712 non-null  bool  \n",
      " 3   reassignment_count       141712 non-null  int64 \n",
      " 4   reopen_count             141712 non-null  int64 \n",
      " 5   sys_mod_count            141712 non-null  int64 \n",
      " 6   made_sla                 141712 non-null  bool  \n",
      " 7   caller_id                141712 non-null  object\n",
      " 8   opened_by                141712 non-null  object\n",
      " 9   opened_at                141712 non-null  object\n",
      " 10  sys_created_by           141712 non-null  object\n",
      " 11  sys_created_at           141712 non-null  object\n",
      " 12  sys_updated_by           141712 non-null  object\n",
      " 13  sys_updated_at           141712 non-null  object\n",
      " 14  contact_type             141712 non-null  object\n",
      " 15  location                 141712 non-null  object\n",
      " 16  category                 141712 non-null  object\n",
      " 17  subcategory              141712 non-null  object\n",
      " 18  u_symptom                141712 non-null  object\n",
      " 19  cmdb_ci                  141712 non-null  object\n",
      " 20  impact                   141712 non-null  object\n",
      " 21  urgency                  141712 non-null  object\n",
      " 22  priority                 141712 non-null  object\n",
      " 23  assignment_group         141712 non-null  object\n",
      " 24  assigned_to              141712 non-null  object\n",
      " 25  knowledge                141712 non-null  bool  \n",
      " 26  u_priority_confirmation  141712 non-null  bool  \n",
      " 27  notify                   141712 non-null  object\n",
      " 28  problem_id               141712 non-null  object\n",
      " 29  rfc                      141712 non-null  object\n",
      " 30  vendor                   141712 non-null  object\n",
      " 31  caused_by                141712 non-null  object\n",
      " 32  closed_code              141712 non-null  object\n",
      " 33  resolved_by              141712 non-null  object\n",
      " 34  resolved_at              141712 non-null  object\n",
      " 35  closed_at                141712 non-null  object\n",
      "dtypes: bool(4), int64(3), object(29)\n",
      "memory usage: 35.1+ MB\n"
     ]
    }
   ],
   "source": [
    "data.info()"
   ]
  },
  {
   "cell_type": "code",
   "execution_count": 5,
   "id": "6154727c",
   "metadata": {},
   "outputs": [],
   "source": [
    "data['number']=data['number'].astype('category')\n",
    "data['incident_state']=data['incident_state'].astype('category')\n",
    "data['caller_id']=data['caller_id'].astype('category')\n",
    "data['opened_by']=data['opened_by'].astype('category')\n",
    "data['opened_at']=data['opened_at'].astype('category')\n",
    "data['sys_created_by']=data['sys_created_by'].astype('category')\n",
    "data['sys_created_at']=data['sys_created_at'].astype('category')\n",
    "data['sys_updated_by']=data['sys_updated_by'].astype('category')\n",
    "data['sys_updated_at']=data['sys_updated_at'].astype('category')\n",
    "data['contact_type']=data['contact_type'].astype('category')\n",
    "data['location']=data['location'].astype('category')\n",
    "data['category']=data['category'].astype('category')\n",
    "data['subcategory']=data['subcategory'].astype('category')\n",
    "data['u_symptom']=data['u_symptom'].astype('category')\n",
    "data['cmdb_ci']=data['cmdb_ci'].astype('category')\n",
    "data['impact']=data['impact'].astype('category')\n",
    "data['urgency']=data['urgency'].astype('category')\n",
    "data['priority']=data['priority'].astype('category')\n",
    "data['assignment_group']=data['assignment_group'].astype('category')\n",
    "data['assigned_to']=data['assigned_to'].astype('category')\n",
    "data['notify']=data['notify'].astype('category')\n",
    "data['problem_id']=data['problem_id'].astype('category')\n",
    "data['rfc']=data['rfc'].astype('category')\n",
    "data['vendor']=data['vendor'].astype('category')\n",
    "data['caused_by']=data['caused_by'].astype('category')\n",
    "data['closed_code']=data['closed_code'].astype('category')\n",
    "data['resolved_by']=data['resolved_by'].astype('category')\n",
    "data['resolved_at']=data['resolved_at'].astype('category')\n",
    "data['closed_at']=data['closed_at'].astype('category')"
   ]
  },
  {
   "cell_type": "code",
   "execution_count": 6,
   "id": "3838d51e",
   "metadata": {},
   "outputs": [
    {
     "name": "stdout",
     "output_type": "stream",
     "text": [
      "<class 'pandas.core.frame.DataFrame'>\n",
      "RangeIndex: 141712 entries, 0 to 141711\n",
      "Data columns (total 36 columns):\n",
      " #   Column                   Non-Null Count   Dtype   \n",
      "---  ------                   --------------   -----   \n",
      " 0   number                   141712 non-null  category\n",
      " 1   incident_state           141712 non-null  category\n",
      " 2   active                   141712 non-null  bool    \n",
      " 3   reassignment_count       141712 non-null  int64   \n",
      " 4   reopen_count             141712 non-null  int64   \n",
      " 5   sys_mod_count            141712 non-null  int64   \n",
      " 6   made_sla                 141712 non-null  bool    \n",
      " 7   caller_id                141712 non-null  category\n",
      " 8   opened_by                141712 non-null  category\n",
      " 9   opened_at                141712 non-null  category\n",
      " 10  sys_created_by           141712 non-null  category\n",
      " 11  sys_created_at           141712 non-null  category\n",
      " 12  sys_updated_by           141712 non-null  category\n",
      " 13  sys_updated_at           141712 non-null  category\n",
      " 14  contact_type             141712 non-null  category\n",
      " 15  location                 141712 non-null  category\n",
      " 16  category                 141712 non-null  category\n",
      " 17  subcategory              141712 non-null  category\n",
      " 18  u_symptom                141712 non-null  category\n",
      " 19  cmdb_ci                  141712 non-null  category\n",
      " 20  impact                   141712 non-null  category\n",
      " 21  urgency                  141712 non-null  category\n",
      " 22  priority                 141712 non-null  category\n",
      " 23  assignment_group         141712 non-null  category\n",
      " 24  assigned_to              141712 non-null  category\n",
      " 25  knowledge                141712 non-null  bool    \n",
      " 26  u_priority_confirmation  141712 non-null  bool    \n",
      " 27  notify                   141712 non-null  category\n",
      " 28  problem_id               141712 non-null  category\n",
      " 29  rfc                      141712 non-null  category\n",
      " 30  vendor                   141712 non-null  category\n",
      " 31  caused_by                141712 non-null  category\n",
      " 32  closed_code              141712 non-null  category\n",
      " 33  resolved_by              141712 non-null  category\n",
      " 34  resolved_at              141712 non-null  category\n",
      " 35  closed_at                141712 non-null  category\n",
      "dtypes: bool(4), category(29), int64(3)\n",
      "memory usage: 15.4 MB\n"
     ]
    }
   ],
   "source": [
    "data.info()"
   ]
  },
  {
   "cell_type": "markdown",
   "id": "e710ac2a",
   "metadata": {},
   "source": [
    "# Missing Value Analysis"
   ]
  },
  {
   "cell_type": "code",
   "execution_count": 7,
   "id": "b7f5910f",
   "metadata": {},
   "outputs": [],
   "source": [
    "df = data.copy()"
   ]
  },
  {
   "cell_type": "code",
   "execution_count": 8,
   "id": "4c2542a5",
   "metadata": {},
   "outputs": [
    {
     "name": "stdout",
     "output_type": "stream",
     "text": [
      "<class 'pandas.core.frame.DataFrame'>\n",
      "RangeIndex: 141712 entries, 0 to 141711\n",
      "Data columns (total 36 columns):\n",
      " #   Column                   Non-Null Count   Dtype   \n",
      "---  ------                   --------------   -----   \n",
      " 0   number                   141712 non-null  category\n",
      " 1   incident_state           141712 non-null  category\n",
      " 2   active                   141712 non-null  bool    \n",
      " 3   reassignment_count       141712 non-null  int64   \n",
      " 4   reopen_count             141712 non-null  int64   \n",
      " 5   sys_mod_count            141712 non-null  int64   \n",
      " 6   made_sla                 141712 non-null  bool    \n",
      " 7   caller_id                141712 non-null  category\n",
      " 8   opened_by                141712 non-null  category\n",
      " 9   opened_at                141712 non-null  category\n",
      " 10  sys_created_by           141712 non-null  category\n",
      " 11  sys_created_at           141712 non-null  category\n",
      " 12  sys_updated_by           141712 non-null  category\n",
      " 13  sys_updated_at           141712 non-null  category\n",
      " 14  contact_type             141712 non-null  category\n",
      " 15  location                 141712 non-null  category\n",
      " 16  category                 141712 non-null  category\n",
      " 17  subcategory              141712 non-null  category\n",
      " 18  u_symptom                141712 non-null  category\n",
      " 19  cmdb_ci                  141712 non-null  category\n",
      " 20  impact                   141712 non-null  category\n",
      " 21  urgency                  141712 non-null  category\n",
      " 22  priority                 141712 non-null  category\n",
      " 23  assignment_group         141712 non-null  category\n",
      " 24  assigned_to              141712 non-null  category\n",
      " 25  knowledge                141712 non-null  bool    \n",
      " 26  u_priority_confirmation  141712 non-null  bool    \n",
      " 27  notify                   141712 non-null  category\n",
      " 28  problem_id               141712 non-null  category\n",
      " 29  rfc                      141712 non-null  category\n",
      " 30  vendor                   141712 non-null  category\n",
      " 31  caused_by                141712 non-null  category\n",
      " 32  closed_code              141712 non-null  category\n",
      " 33  resolved_by              141712 non-null  category\n",
      " 34  resolved_at              141712 non-null  category\n",
      " 35  closed_at                141712 non-null  category\n",
      "dtypes: bool(4), category(29), int64(3)\n",
      "memory usage: 15.4 MB\n"
     ]
    }
   ],
   "source": [
    "df.info()"
   ]
  },
  {
   "cell_type": "code",
   "execution_count": 9,
   "id": "611a8bd6",
   "metadata": {},
   "outputs": [],
   "source": [
    "df.replace('?', np.nan, inplace=True)"
   ]
  },
  {
   "cell_type": "code",
   "execution_count": 10,
   "id": "ab6030db",
   "metadata": {},
   "outputs": [
    {
     "data": {
      "text/plain": [
       "number                          0\n",
       "incident_state                  0\n",
       "active                          0\n",
       "reassignment_count              0\n",
       "reopen_count                    0\n",
       "sys_mod_count                   0\n",
       "made_sla                        0\n",
       "caller_id                      29\n",
       "opened_by                    4835\n",
       "opened_at                       0\n",
       "sys_created_by              53076\n",
       "sys_created_at              53076\n",
       "sys_updated_by                  0\n",
       "sys_updated_at                  0\n",
       "contact_type                    0\n",
       "location                       76\n",
       "category                       78\n",
       "subcategory                   111\n",
       "u_symptom                   32964\n",
       "cmdb_ci                    141267\n",
       "impact                          0\n",
       "urgency                         0\n",
       "priority                        0\n",
       "assignment_group            14213\n",
       "assigned_to                 27496\n",
       "knowledge                       0\n",
       "u_priority_confirmation         0\n",
       "notify                          0\n",
       "problem_id                 139417\n",
       "rfc                        140721\n",
       "vendor                     141468\n",
       "caused_by                  141689\n",
       "closed_code                   714\n",
       "resolved_by                   226\n",
       "resolved_at                  3141\n",
       "closed_at                       0\n",
       "dtype: int64"
      ]
     },
     "execution_count": 10,
     "metadata": {},
     "output_type": "execute_result"
    }
   ],
   "source": [
    "df.isna().sum()"
   ]
  },
  {
   "cell_type": "code",
   "execution_count": 11,
   "id": "ac299d43",
   "metadata": {},
   "outputs": [],
   "source": [
    "missing_val = pd.DataFrame(df.isnull().sum())"
   ]
  },
  {
   "cell_type": "code",
   "execution_count": 12,
   "id": "5eb75242",
   "metadata": {},
   "outputs": [
    {
     "data": {
      "text/html": [
       "<div>\n",
       "<style scoped>\n",
       "    .dataframe tbody tr th:only-of-type {\n",
       "        vertical-align: middle;\n",
       "    }\n",
       "\n",
       "    .dataframe tbody tr th {\n",
       "        vertical-align: top;\n",
       "    }\n",
       "\n",
       "    .dataframe thead th {\n",
       "        text-align: right;\n",
       "    }\n",
       "</style>\n",
       "<table border=\"1\" class=\"dataframe\">\n",
       "  <thead>\n",
       "    <tr style=\"text-align: right;\">\n",
       "      <th></th>\n",
       "      <th>0</th>\n",
       "    </tr>\n",
       "  </thead>\n",
       "  <tbody>\n",
       "    <tr>\n",
       "      <th>number</th>\n",
       "      <td>0</td>\n",
       "    </tr>\n",
       "    <tr>\n",
       "      <th>incident_state</th>\n",
       "      <td>0</td>\n",
       "    </tr>\n",
       "    <tr>\n",
       "      <th>active</th>\n",
       "      <td>0</td>\n",
       "    </tr>\n",
       "    <tr>\n",
       "      <th>reassignment_count</th>\n",
       "      <td>0</td>\n",
       "    </tr>\n",
       "    <tr>\n",
       "      <th>reopen_count</th>\n",
       "      <td>0</td>\n",
       "    </tr>\n",
       "    <tr>\n",
       "      <th>sys_mod_count</th>\n",
       "      <td>0</td>\n",
       "    </tr>\n",
       "    <tr>\n",
       "      <th>made_sla</th>\n",
       "      <td>0</td>\n",
       "    </tr>\n",
       "    <tr>\n",
       "      <th>caller_id</th>\n",
       "      <td>29</td>\n",
       "    </tr>\n",
       "    <tr>\n",
       "      <th>opened_by</th>\n",
       "      <td>4835</td>\n",
       "    </tr>\n",
       "    <tr>\n",
       "      <th>opened_at</th>\n",
       "      <td>0</td>\n",
       "    </tr>\n",
       "    <tr>\n",
       "      <th>sys_created_by</th>\n",
       "      <td>53076</td>\n",
       "    </tr>\n",
       "    <tr>\n",
       "      <th>sys_created_at</th>\n",
       "      <td>53076</td>\n",
       "    </tr>\n",
       "    <tr>\n",
       "      <th>sys_updated_by</th>\n",
       "      <td>0</td>\n",
       "    </tr>\n",
       "    <tr>\n",
       "      <th>sys_updated_at</th>\n",
       "      <td>0</td>\n",
       "    </tr>\n",
       "    <tr>\n",
       "      <th>contact_type</th>\n",
       "      <td>0</td>\n",
       "    </tr>\n",
       "    <tr>\n",
       "      <th>location</th>\n",
       "      <td>76</td>\n",
       "    </tr>\n",
       "    <tr>\n",
       "      <th>category</th>\n",
       "      <td>78</td>\n",
       "    </tr>\n",
       "    <tr>\n",
       "      <th>subcategory</th>\n",
       "      <td>111</td>\n",
       "    </tr>\n",
       "    <tr>\n",
       "      <th>u_symptom</th>\n",
       "      <td>32964</td>\n",
       "    </tr>\n",
       "    <tr>\n",
       "      <th>cmdb_ci</th>\n",
       "      <td>141267</td>\n",
       "    </tr>\n",
       "    <tr>\n",
       "      <th>impact</th>\n",
       "      <td>0</td>\n",
       "    </tr>\n",
       "    <tr>\n",
       "      <th>urgency</th>\n",
       "      <td>0</td>\n",
       "    </tr>\n",
       "    <tr>\n",
       "      <th>priority</th>\n",
       "      <td>0</td>\n",
       "    </tr>\n",
       "    <tr>\n",
       "      <th>assignment_group</th>\n",
       "      <td>14213</td>\n",
       "    </tr>\n",
       "    <tr>\n",
       "      <th>assigned_to</th>\n",
       "      <td>27496</td>\n",
       "    </tr>\n",
       "    <tr>\n",
       "      <th>knowledge</th>\n",
       "      <td>0</td>\n",
       "    </tr>\n",
       "    <tr>\n",
       "      <th>u_priority_confirmation</th>\n",
       "      <td>0</td>\n",
       "    </tr>\n",
       "    <tr>\n",
       "      <th>notify</th>\n",
       "      <td>0</td>\n",
       "    </tr>\n",
       "    <tr>\n",
       "      <th>problem_id</th>\n",
       "      <td>139417</td>\n",
       "    </tr>\n",
       "    <tr>\n",
       "      <th>rfc</th>\n",
       "      <td>140721</td>\n",
       "    </tr>\n",
       "    <tr>\n",
       "      <th>vendor</th>\n",
       "      <td>141468</td>\n",
       "    </tr>\n",
       "    <tr>\n",
       "      <th>caused_by</th>\n",
       "      <td>141689</td>\n",
       "    </tr>\n",
       "    <tr>\n",
       "      <th>closed_code</th>\n",
       "      <td>714</td>\n",
       "    </tr>\n",
       "    <tr>\n",
       "      <th>resolved_by</th>\n",
       "      <td>226</td>\n",
       "    </tr>\n",
       "    <tr>\n",
       "      <th>resolved_at</th>\n",
       "      <td>3141</td>\n",
       "    </tr>\n",
       "    <tr>\n",
       "      <th>closed_at</th>\n",
       "      <td>0</td>\n",
       "    </tr>\n",
       "  </tbody>\n",
       "</table>\n",
       "</div>"
      ],
      "text/plain": [
       "                              0\n",
       "number                        0\n",
       "incident_state                0\n",
       "active                        0\n",
       "reassignment_count            0\n",
       "reopen_count                  0\n",
       "sys_mod_count                 0\n",
       "made_sla                      0\n",
       "caller_id                    29\n",
       "opened_by                  4835\n",
       "opened_at                     0\n",
       "sys_created_by            53076\n",
       "sys_created_at            53076\n",
       "sys_updated_by                0\n",
       "sys_updated_at                0\n",
       "contact_type                  0\n",
       "location                     76\n",
       "category                     78\n",
       "subcategory                 111\n",
       "u_symptom                 32964\n",
       "cmdb_ci                  141267\n",
       "impact                        0\n",
       "urgency                       0\n",
       "priority                      0\n",
       "assignment_group          14213\n",
       "assigned_to               27496\n",
       "knowledge                     0\n",
       "u_priority_confirmation       0\n",
       "notify                        0\n",
       "problem_id               139417\n",
       "rfc                      140721\n",
       "vendor                   141468\n",
       "caused_by                141689\n",
       "closed_code                 714\n",
       "resolved_by                 226\n",
       "resolved_at                3141\n",
       "closed_at                     0"
      ]
     },
     "execution_count": 12,
     "metadata": {},
     "output_type": "execute_result"
    }
   ],
   "source": [
    "missing_val"
   ]
  },
  {
   "cell_type": "code",
   "execution_count": 13,
   "id": "bf1a6e40",
   "metadata": {},
   "outputs": [],
   "source": [
    "missing_val = missing_val.reset_index()"
   ]
  },
  {
   "cell_type": "code",
   "execution_count": 14,
   "id": "1d4ab5ea",
   "metadata": {},
   "outputs": [
    {
     "data": {
      "text/html": [
       "<div>\n",
       "<style scoped>\n",
       "    .dataframe tbody tr th:only-of-type {\n",
       "        vertical-align: middle;\n",
       "    }\n",
       "\n",
       "    .dataframe tbody tr th {\n",
       "        vertical-align: top;\n",
       "    }\n",
       "\n",
       "    .dataframe thead th {\n",
       "        text-align: right;\n",
       "    }\n",
       "</style>\n",
       "<table border=\"1\" class=\"dataframe\">\n",
       "  <thead>\n",
       "    <tr style=\"text-align: right;\">\n",
       "      <th></th>\n",
       "      <th>var</th>\n",
       "      <th>missing_value_percentage</th>\n",
       "    </tr>\n",
       "  </thead>\n",
       "  <tbody>\n",
       "    <tr>\n",
       "      <th>0</th>\n",
       "      <td>caused_by</td>\n",
       "      <td>99.983770</td>\n",
       "    </tr>\n",
       "    <tr>\n",
       "      <th>1</th>\n",
       "      <td>vendor</td>\n",
       "      <td>99.827820</td>\n",
       "    </tr>\n",
       "    <tr>\n",
       "      <th>2</th>\n",
       "      <td>cmdb_ci</td>\n",
       "      <td>99.685983</td>\n",
       "    </tr>\n",
       "    <tr>\n",
       "      <th>3</th>\n",
       "      <td>rfc</td>\n",
       "      <td>99.300694</td>\n",
       "    </tr>\n",
       "    <tr>\n",
       "      <th>4</th>\n",
       "      <td>problem_id</td>\n",
       "      <td>98.380518</td>\n",
       "    </tr>\n",
       "    <tr>\n",
       "      <th>5</th>\n",
       "      <td>sys_created_at</td>\n",
       "      <td>37.453427</td>\n",
       "    </tr>\n",
       "    <tr>\n",
       "      <th>6</th>\n",
       "      <td>sys_created_by</td>\n",
       "      <td>37.453427</td>\n",
       "    </tr>\n",
       "    <tr>\n",
       "      <th>7</th>\n",
       "      <td>u_symptom</td>\n",
       "      <td>23.261262</td>\n",
       "    </tr>\n",
       "    <tr>\n",
       "      <th>8</th>\n",
       "      <td>assigned_to</td>\n",
       "      <td>19.402732</td>\n",
       "    </tr>\n",
       "    <tr>\n",
       "      <th>9</th>\n",
       "      <td>assignment_group</td>\n",
       "      <td>10.029496</td>\n",
       "    </tr>\n",
       "    <tr>\n",
       "      <th>10</th>\n",
       "      <td>opened_by</td>\n",
       "      <td>3.411849</td>\n",
       "    </tr>\n",
       "  </tbody>\n",
       "</table>\n",
       "</div>"
      ],
      "text/plain": [
       "                 var  missing_value_percentage\n",
       "0          caused_by                 99.983770\n",
       "1             vendor                 99.827820\n",
       "2            cmdb_ci                 99.685983\n",
       "3                rfc                 99.300694\n",
       "4         problem_id                 98.380518\n",
       "5     sys_created_at                 37.453427\n",
       "6     sys_created_by                 37.453427\n",
       "7          u_symptom                 23.261262\n",
       "8        assigned_to                 19.402732\n",
       "9   assignment_group                 10.029496\n",
       "10         opened_by                  3.411849"
      ]
     },
     "execution_count": 14,
     "metadata": {},
     "output_type": "execute_result"
    }
   ],
   "source": [
    "#rename the variable\n",
    "missing_val = missing_val.rename(columns={'index':'var',0:'missing_value_percentage'})\n",
    "#calculating percentage\n",
    "missing_val['missing_value_percentage'] = missing_val['missing_value_percentage']/len(df)*100\n",
    "missing_val = missing_val.sort_values('missing_value_percentage',ascending=False).reset_index(drop=True)\n",
    "missing_val.head(11)"
   ]
  },
  {
   "cell_type": "code",
   "execution_count": 15,
   "id": "e2cff372",
   "metadata": {},
   "outputs": [],
   "source": [
    "# Dropping Clomns with more than 90% missing values and dropping some more on domain knowledge\n",
    "drop = ['caller_id','sys_created_by','sys_created_at','contact_type','cmdb_ci','u_symptom','assignment_group','assigned_to','knowledge','u_priority_confirmation','caused_by', 'rfc', 'vendor','urgency','priority','notify','problem_id']\n",
    "df.drop(drop,axis=1,inplace=True)"
   ]
  },
  {
   "cell_type": "code",
   "execution_count": 16,
   "id": "fb911ff5",
   "metadata": {},
   "outputs": [
    {
     "data": {
      "text/plain": [
       "number                   0\n",
       "incident_state           0\n",
       "active                   0\n",
       "reassignment_count       0\n",
       "reopen_count             0\n",
       "sys_mod_count            0\n",
       "made_sla                 0\n",
       "opened_by             4835\n",
       "opened_at                0\n",
       "sys_updated_by           0\n",
       "sys_updated_at           0\n",
       "location                76\n",
       "category                78\n",
       "subcategory            111\n",
       "impact                   0\n",
       "closed_code            714\n",
       "resolved_by            226\n",
       "resolved_at           3141\n",
       "closed_at                0\n",
       "dtype: int64"
      ]
     },
     "execution_count": 16,
     "metadata": {},
     "output_type": "execute_result"
    }
   ],
   "source": [
    "df.isna().sum()"
   ]
  },
  {
   "cell_type": "code",
   "execution_count": 17,
   "id": "9886171a",
   "metadata": {},
   "outputs": [],
   "source": [
    "cateogry_columns=df.select_dtypes(include=['category']).columns.tolist()\n",
    "integer_columns=df.select_dtypes(include=['bool']).columns.tolist()\n",
    "\n",
    "for column in df:\n",
    "    if df[column].isnull().any():\n",
    "        if(column in cateogry_columns):\n",
    "            df[column]=data[column].fillna(df[column].mode()[0])\n",
    "        else:\n",
    "            df[column]=df[column].fillna(df[column].mean)"
   ]
  },
  {
   "cell_type": "code",
   "execution_count": 18,
   "id": "ec59abf5",
   "metadata": {},
   "outputs": [
    {
     "data": {
      "text/plain": [
       "number                0\n",
       "incident_state        0\n",
       "active                0\n",
       "reassignment_count    0\n",
       "reopen_count          0\n",
       "sys_mod_count         0\n",
       "made_sla              0\n",
       "opened_by             0\n",
       "opened_at             0\n",
       "sys_updated_by        0\n",
       "sys_updated_at        0\n",
       "location              0\n",
       "category              0\n",
       "subcategory           0\n",
       "impact                0\n",
       "closed_code           0\n",
       "resolved_by           0\n",
       "resolved_at           0\n",
       "closed_at             0\n",
       "dtype: int64"
      ]
     },
     "execution_count": 18,
     "metadata": {},
     "output_type": "execute_result"
    }
   ],
   "source": [
    "df.isna().sum()"
   ]
  },
  {
   "cell_type": "code",
   "execution_count": 19,
   "id": "014278e2",
   "metadata": {},
   "outputs": [
    {
     "name": "stdout",
     "output_type": "stream",
     "text": [
      "<class 'pandas.core.frame.DataFrame'>\n",
      "RangeIndex: 141712 entries, 0 to 141711\n",
      "Data columns (total 19 columns):\n",
      " #   Column              Non-Null Count   Dtype   \n",
      "---  ------              --------------   -----   \n",
      " 0   number              141712 non-null  category\n",
      " 1   incident_state      141712 non-null  category\n",
      " 2   active              141712 non-null  bool    \n",
      " 3   reassignment_count  141712 non-null  int64   \n",
      " 4   reopen_count        141712 non-null  int64   \n",
      " 5   sys_mod_count       141712 non-null  int64   \n",
      " 6   made_sla            141712 non-null  bool    \n",
      " 7   opened_by           141712 non-null  category\n",
      " 8   opened_at           141712 non-null  category\n",
      " 9   sys_updated_by      141712 non-null  category\n",
      " 10  sys_updated_at      141712 non-null  category\n",
      " 11  location            141712 non-null  category\n",
      " 12  category            141712 non-null  category\n",
      " 13  subcategory         141712 non-null  category\n",
      " 14  impact              141712 non-null  category\n",
      " 15  closed_code         141712 non-null  category\n",
      " 16  resolved_by         141712 non-null  category\n",
      " 17  resolved_at         141712 non-null  category\n",
      " 18  closed_at           141712 non-null  category\n",
      "dtypes: bool(2), category(14), int64(3)\n",
      "memory usage: 11.6 MB\n"
     ]
    }
   ],
   "source": [
    "df.info()"
   ]
  },
  {
   "cell_type": "markdown",
   "id": "d6ccba27",
   "metadata": {},
   "source": [
    "# LABEL ENCODING"
   ]
  },
  {
   "cell_type": "code",
   "execution_count": 20,
   "id": "e8f8b284",
   "metadata": {},
   "outputs": [],
   "source": [
    "from sklearn.preprocessing import LabelEncoder\n",
    "label = LabelEncoder()\n",
    "df['number']=label.fit_transform(df.number)\n",
    "df['incident_state']=label.fit_transform(df.incident_state)\n",
    "df['active']=label.fit_transform(df.active)\n",
    "df['made_sla']=label.fit_transform(df.made_sla)\n",
    "df['opened_by']=label.fit_transform(df.opened_by)\n",
    "df['location']=label.fit_transform(df.location)\n",
    "df['category']=label.fit_transform(df.category)\n",
    "df['subcategory']=label.fit_transform(df.subcategory)\n",
    "df['closed_code']=label.fit_transform(df.closed_code)\n",
    "df['resolved_by']=label.fit_transform(df.resolved_by)\n",
    "df['reassignment_count']=label.fit_transform(df.reassignment_count)\n",
    "df['reopen_count']=label.fit_transform(df.reopen_count)\n",
    "df['sys_mod_count']=label.fit_transform(df.sys_mod_count)\n",
    "df['opened_at']=label.fit_transform(df.opened_at)\n",
    "df['sys_updated_by']=label.fit_transform(df.sys_updated_by)\n",
    "df['sys_updated_at']=label.fit_transform(df.sys_updated_at)\n",
    "df['impact']=label.fit_transform(df.impact)\n",
    "df['resolved_at']=label.fit_transform(df.resolved_at)\n",
    "df['closed_at']=label.fit_transform(df.closed_at)"
   ]
  },
  {
   "cell_type": "code",
   "execution_count": 21,
   "id": "0fb518b0",
   "metadata": {},
   "outputs": [
    {
     "data": {
      "text/html": [
       "<div>\n",
       "<style scoped>\n",
       "    .dataframe tbody tr th:only-of-type {\n",
       "        vertical-align: middle;\n",
       "    }\n",
       "\n",
       "    .dataframe tbody tr th {\n",
       "        vertical-align: top;\n",
       "    }\n",
       "\n",
       "    .dataframe thead th {\n",
       "        text-align: right;\n",
       "    }\n",
       "</style>\n",
       "<table border=\"1\" class=\"dataframe\">\n",
       "  <thead>\n",
       "    <tr style=\"text-align: right;\">\n",
       "      <th></th>\n",
       "      <th>number</th>\n",
       "      <th>incident_state</th>\n",
       "      <th>active</th>\n",
       "      <th>reassignment_count</th>\n",
       "      <th>reopen_count</th>\n",
       "      <th>sys_mod_count</th>\n",
       "      <th>made_sla</th>\n",
       "      <th>opened_by</th>\n",
       "      <th>opened_at</th>\n",
       "      <th>sys_updated_by</th>\n",
       "      <th>sys_updated_at</th>\n",
       "      <th>location</th>\n",
       "      <th>category</th>\n",
       "      <th>subcategory</th>\n",
       "      <th>impact</th>\n",
       "      <th>closed_code</th>\n",
       "      <th>resolved_by</th>\n",
       "      <th>resolved_at</th>\n",
       "      <th>closed_at</th>\n",
       "    </tr>\n",
       "  </thead>\n",
       "  <tbody>\n",
       "    <tr>\n",
       "      <th>0</th>\n",
       "      <td>0</td>\n",
       "      <td>7</td>\n",
       "      <td>1</td>\n",
       "      <td>0</td>\n",
       "      <td>0</td>\n",
       "      <td>0</td>\n",
       "      <td>1</td>\n",
       "      <td>201</td>\n",
       "      <td>12990</td>\n",
       "      <td>104</td>\n",
       "      <td>33112</td>\n",
       "      <td>44</td>\n",
       "      <td>47</td>\n",
       "      <td>70</td>\n",
       "      <td>1</td>\n",
       "      <td>13</td>\n",
       "      <td>52</td>\n",
       "      <td>12244</td>\n",
       "      <td>2209</td>\n",
       "    </tr>\n",
       "    <tr>\n",
       "      <th>1</th>\n",
       "      <td>0</td>\n",
       "      <td>8</td>\n",
       "      <td>1</td>\n",
       "      <td>0</td>\n",
       "      <td>0</td>\n",
       "      <td>2</td>\n",
       "      <td>1</td>\n",
       "      <td>201</td>\n",
       "      <td>12990</td>\n",
       "      <td>509</td>\n",
       "      <td>33150</td>\n",
       "      <td>44</td>\n",
       "      <td>47</td>\n",
       "      <td>70</td>\n",
       "      <td>1</td>\n",
       "      <td>13</td>\n",
       "      <td>52</td>\n",
       "      <td>12244</td>\n",
       "      <td>2209</td>\n",
       "    </tr>\n",
       "    <tr>\n",
       "      <th>2</th>\n",
       "      <td>0</td>\n",
       "      <td>8</td>\n",
       "      <td>1</td>\n",
       "      <td>0</td>\n",
       "      <td>0</td>\n",
       "      <td>3</td>\n",
       "      <td>1</td>\n",
       "      <td>201</td>\n",
       "      <td>12990</td>\n",
       "      <td>658</td>\n",
       "      <td>33241</td>\n",
       "      <td>44</td>\n",
       "      <td>47</td>\n",
       "      <td>70</td>\n",
       "      <td>1</td>\n",
       "      <td>13</td>\n",
       "      <td>52</td>\n",
       "      <td>12244</td>\n",
       "      <td>2209</td>\n",
       "    </tr>\n",
       "    <tr>\n",
       "      <th>3</th>\n",
       "      <td>0</td>\n",
       "      <td>6</td>\n",
       "      <td>0</td>\n",
       "      <td>0</td>\n",
       "      <td>0</td>\n",
       "      <td>4</td>\n",
       "      <td>1</td>\n",
       "      <td>201</td>\n",
       "      <td>12990</td>\n",
       "      <td>762</td>\n",
       "      <td>41838</td>\n",
       "      <td>44</td>\n",
       "      <td>47</td>\n",
       "      <td>70</td>\n",
       "      <td>1</td>\n",
       "      <td>13</td>\n",
       "      <td>52</td>\n",
       "      <td>12244</td>\n",
       "      <td>2209</td>\n",
       "    </tr>\n",
       "    <tr>\n",
       "      <th>4</th>\n",
       "      <td>1</td>\n",
       "      <td>7</td>\n",
       "      <td>1</td>\n",
       "      <td>0</td>\n",
       "      <td>0</td>\n",
       "      <td>0</td>\n",
       "      <td>1</td>\n",
       "      <td>121</td>\n",
       "      <td>12991</td>\n",
       "      <td>605</td>\n",
       "      <td>33113</td>\n",
       "      <td>63</td>\n",
       "      <td>31</td>\n",
       "      <td>113</td>\n",
       "      <td>1</td>\n",
       "      <td>13</td>\n",
       "      <td>197</td>\n",
       "      <td>40</td>\n",
       "      <td>2317</td>\n",
       "    </tr>\n",
       "  </tbody>\n",
       "</table>\n",
       "</div>"
      ],
      "text/plain": [
       "   number  incident_state  active  reassignment_count  reopen_count  \\\n",
       "0       0               7       1                   0             0   \n",
       "1       0               8       1                   0             0   \n",
       "2       0               8       1                   0             0   \n",
       "3       0               6       0                   0             0   \n",
       "4       1               7       1                   0             0   \n",
       "\n",
       "   sys_mod_count  made_sla  opened_by  opened_at  sys_updated_by  \\\n",
       "0              0         1        201      12990             104   \n",
       "1              2         1        201      12990             509   \n",
       "2              3         1        201      12990             658   \n",
       "3              4         1        201      12990             762   \n",
       "4              0         1        121      12991             605   \n",
       "\n",
       "   sys_updated_at  location  category  subcategory  impact  closed_code  \\\n",
       "0           33112        44        47           70       1           13   \n",
       "1           33150        44        47           70       1           13   \n",
       "2           33241        44        47           70       1           13   \n",
       "3           41838        44        47           70       1           13   \n",
       "4           33113        63        31          113       1           13   \n",
       "\n",
       "   resolved_by  resolved_at  closed_at  \n",
       "0           52        12244       2209  \n",
       "1           52        12244       2209  \n",
       "2           52        12244       2209  \n",
       "3           52        12244       2209  \n",
       "4          197           40       2317  "
      ]
     },
     "execution_count": 21,
     "metadata": {},
     "output_type": "execute_result"
    }
   ],
   "source": [
    "df.head()"
   ]
  },
  {
   "cell_type": "code",
   "execution_count": 22,
   "id": "7670220b",
   "metadata": {},
   "outputs": [
    {
     "name": "stdout",
     "output_type": "stream",
     "text": [
      "<class 'pandas.core.frame.DataFrame'>\n",
      "RangeIndex: 141712 entries, 0 to 141711\n",
      "Data columns (total 19 columns):\n",
      " #   Column              Non-Null Count   Dtype\n",
      "---  ------              --------------   -----\n",
      " 0   number              141712 non-null  int32\n",
      " 1   incident_state      141712 non-null  int32\n",
      " 2   active              141712 non-null  int64\n",
      " 3   reassignment_count  141712 non-null  int64\n",
      " 4   reopen_count        141712 non-null  int64\n",
      " 5   sys_mod_count       141712 non-null  int64\n",
      " 6   made_sla            141712 non-null  int64\n",
      " 7   opened_by           141712 non-null  int32\n",
      " 8   opened_at           141712 non-null  int32\n",
      " 9   sys_updated_by      141712 non-null  int32\n",
      " 10  sys_updated_at      141712 non-null  int32\n",
      " 11  location            141712 non-null  int32\n",
      " 12  category            141712 non-null  int32\n",
      " 13  subcategory         141712 non-null  int32\n",
      " 14  impact              141712 non-null  int32\n",
      " 15  closed_code         141712 non-null  int32\n",
      " 16  resolved_by         141712 non-null  int32\n",
      " 17  resolved_at         141712 non-null  int32\n",
      " 18  closed_at           141712 non-null  int32\n",
      "dtypes: int32(14), int64(5)\n",
      "memory usage: 13.0 MB\n"
     ]
    }
   ],
   "source": [
    "df.info()"
   ]
  },
  {
   "cell_type": "markdown",
   "id": "3daf66b5",
   "metadata": {},
   "source": [
    "# Balancing the dataset"
   ]
  },
  {
   "cell_type": "code",
   "execution_count": 23,
   "id": "c15b67e8",
   "metadata": {},
   "outputs": [],
   "source": [
    "X= df.iloc[:,df.columns!='impact']\n",
    "Y =df.impact"
   ]
  },
  {
   "cell_type": "code",
   "execution_count": 24,
   "id": "ae40d8c7",
   "metadata": {},
   "outputs": [],
   "source": [
    "from collections import Counter\n",
    "from sklearn.datasets import make_classification\n",
    "from imblearn.over_sampling import SMOTE"
   ]
  },
  {
   "cell_type": "code",
   "execution_count": 25,
   "id": "05f28341",
   "metadata": {},
   "outputs": [
    {
     "name": "stdout",
     "output_type": "stream",
     "text": [
      "Original dataset shape Counter({1: 134335, 2: 3886, 0: 3491})\n"
     ]
    }
   ],
   "source": [
    "print('Original dataset shape {}'.format(Counter(Y)))"
   ]
  },
  {
   "cell_type": "code",
   "execution_count": 26,
   "id": "aee352e7",
   "metadata": {},
   "outputs": [],
   "source": [
    "smt = SMOTE(random_state= 42)"
   ]
  },
  {
   "cell_type": "markdown",
   "id": "4ba7d109",
   "metadata": {},
   "source": [
    "# Splitting the dataset"
   ]
  },
  {
   "cell_type": "code",
   "execution_count": 27,
   "id": "542f68f0",
   "metadata": {},
   "outputs": [],
   "source": [
    "from fast_ml.model_development import train_valid_test_split\n",
    "\n",
    "X_train, Y_train, X_valid, Y_valid, X_test, Y_test = train_valid_test_split(df, target ='impact', train_size=0.8, valid_size=0.1, test_size=0.1)"
   ]
  },
  {
   "cell_type": "code",
   "execution_count": 28,
   "id": "af54ff11",
   "metadata": {},
   "outputs": [
    {
     "name": "stdout",
     "output_type": "stream",
     "text": [
      "(113369, 18)\n",
      "(113369,)\n",
      "(14172, 18)\n",
      "(14172,)\n",
      "(14171, 18)\n",
      "(14171,)\n"
     ]
    },
    {
     "data": {
      "text/plain": [
       "(None, None)"
      ]
     },
     "execution_count": 28,
     "metadata": {},
     "output_type": "execute_result"
    }
   ],
   "source": [
    "print(X_train.shape), print(Y_train.shape)\n",
    "print(X_test.shape), print(Y_test.shape)\n",
    "print (X_valid.shape), print(Y_valid.shape)"
   ]
  },
  {
   "cell_type": "code",
   "execution_count": 29,
   "id": "ebca1016",
   "metadata": {},
   "outputs": [],
   "source": [
    "from sklearn.model_selection import train_test_split\n",
    "X_train_1,X_test_1,Y_train_1,Y_test_1 = train_test_split(X_train,Y_train,test_size=0.2, random_state=42)"
   ]
  },
  {
   "cell_type": "code",
   "execution_count": 30,
   "id": "3fd21fab",
   "metadata": {},
   "outputs": [],
   "source": [
    "X_res, Y_res = smt.fit_resample(X_train_1, Y_train_1)"
   ]
  },
  {
   "cell_type": "code",
   "execution_count": 31,
   "id": "ec23ceda",
   "metadata": {},
   "outputs": [
    {
     "name": "stdout",
     "output_type": "stream",
     "text": [
      "Class=2, n=86001 (33.333%)\n"
     ]
    },
    {
     "data": {
      "image/png": "[encoded data removed]",
      "text/plain": [
       "<Figure size 432x288 with 1 Axes>"
      ]
     },
     "metadata": {
      "needs_background": "light"
     },
     "output_type": "display_data"
    }
   ],
   "source": [
    "# summarize distribution\n",
    "counter = Counter(Y_res)\n",
    "for k,v in counter.items():\n",
    "    per = v / len(Y_res) * 100\n",
    "print('Class=%d, n=%d (%.3f%%)' % (k, v, per))\n",
    "# plot the distribution\n",
    "plt.bar(counter.keys(), counter.values())\n",
    "plt.show()"
   ]
  },
  {
   "cell_type": "markdown",
   "id": "cb5e7c5c",
   "metadata": {},
   "source": [
    "# Feature selection on balanced data"
   ]
  },
  {
   "cell_type": "code",
   "execution_count": 32,
   "id": "d0ffb04a",
   "metadata": {},
   "outputs": [
    {
     "name": "stdout",
     "output_type": "stream",
     "text": [
      "[5.28137373e+07 5.93884543e+02 2.50313261e+02 4.57935575e+03\n",
      " 1.69225522e+03 1.39805105e+04 5.43514499e+02 1.03756859e+06\n",
      " 2.20436898e+06 2.26287195e+05 3.41855745e+06 9.95241089e+03\n",
      " 2.84468308e+03 2.57696372e+04 6.02580738e+02 7.83600970e+04\n",
      " 3.47213259e+06 1.20687285e+05]\n"
     ]
    }
   ],
   "source": [
    "import sklearn\n",
    "from sklearn.feature_selection import SelectKBest\n",
    "from sklearn.feature_selection import chi2\n",
    "\n",
    "chi2 = SelectKBest(score_func=chi2, k='all')\n",
    "model_chi2 = chi2.fit(X_res, Y_res)\n",
    "\n",
    "print(model_chi2.scores_)\n",
    "features_select =model_chi2.transform(X_res)"
   ]
  },
  {
   "cell_type": "code",
   "execution_count": 33,
   "id": "0db1d36b",
   "metadata": {},
   "outputs": [],
   "source": [
    "features=np.array([5.28536993e+07 ,6.36200867e+02, 3.25402711e+02, 7.72880067e+03,\n",
    "                   1.33119476e+03, 1.72260860e+04, 5.02038367e+02, 1.17949711e+06,\n",
    "                   1.40113564e+07 ,1.69089462e+05, 9.51394545e+06, 1.46041410e+04,\n",
    "                   7.60480909e+02 ,3.93255145e+04 ,1.05345261e+05 ,1.91918191e+05,\n",
    "                   1.02783361e+03 ,9.19763868e+04 ,5.03129542e+06 ,7.00300960e+05])"
   ]
  },
  {
   "cell_type": "code",
   "execution_count": 34,
   "id": "cb6aeeb8",
   "metadata": {},
   "outputs": [],
   "source": [
    "features=pd.DataFrame(features)"
   ]
  },
  {
   "cell_type": "code",
   "execution_count": 35,
   "id": "a7c9b797",
   "metadata": {},
   "outputs": [
    {
     "data": {
      "text/plain": [
       "<AxesSubplot:>"
      ]
     },
     "execution_count": 35,
     "metadata": {},
     "output_type": "execute_result"
    },
    {
     "data": {
      "image/png": "[encoded data removed]",
      "text/plain": [
       "<Figure size 432x288 with 1 Axes>"
      ]
     },
     "metadata": {
      "needs_background": "light"
     },
     "output_type": "display_data"
    }
   ],
   "source": [
    "features.plot.bar()"
   ]
  },
  {
   "cell_type": "code",
   "execution_count": 36,
   "id": "b718b686",
   "metadata": {},
   "outputs": [],
   "source": [
    "array=np.array ([[23622,     7,     1, ...,   169,  1142,   676],\n",
    "       [23148,     7,     1, ...,     4, 14456,  2524],\n",
    "       [ 5983,     8,     1, ...,    11, 12751,  2222],\n",
    "       ...,\n",
    "       [ 4440,     7,     0, ...,    22, 15757,   637],\n",
    "       [ 1984,     6,     0, ...,    54,  6066,  2029],\n",
    "       [19912,     7,     1, ...,    37,  6138,  1357]],dtype=object)"
   ]
  },
  {
   "cell_type": "markdown",
   "id": "44e65c4b",
   "metadata": {},
   "source": [
    "# Feature Selection:Using Mutual info classifier"
   ]
  },
  {
   "cell_type": "code",
   "execution_count": 37,
   "id": "a06d5be7",
   "metadata": {},
   "outputs": [],
   "source": [
    "from sklearn.feature_selection import mutual_info_classif\n",
    "\n",
    "mic = SelectKBest(score_func=mutual_info_classif, k='all')\n",
    "model_mic=mic.fit(X_res, Y_res)\n",
    "features_select = model_mic.transform(X_res)"
   ]
  },
  {
   "cell_type": "code",
   "execution_count": 38,
   "id": "f93b4202",
   "metadata": {},
   "outputs": [
    {
     "name": "stdout",
     "output_type": "stream",
     "text": [
      "Feature 0: 0.419664\n",
      "Feature 1: 0.063591\n",
      "Feature 2: 0.019496\n",
      "Feature 3: 0.008900\n",
      "Feature 4: 0.004309\n",
      "Feature 5: 0.030173\n",
      "Feature 6: 0.029531\n",
      "Feature 7: 0.415962\n",
      "Feature 8: 0.396040\n",
      "Feature 9: 0.296235\n",
      "Feature 10: 0.248793\n",
      "Feature 11: 0.173901\n",
      "Feature 12: 0.183641\n",
      "Feature 13: 0.183611\n",
      "Feature 14: 0.043583\n",
      "Feature 15: 0.250604\n",
      "Feature 16: 0.371584\n",
      "Feature 17: 0.311845\n"
     ]
    },
    {
     "data": {
      "image/png": "[encoded data removed]",
      "text/plain": [
       "<Figure size 432x288 with 1 Axes>"
      ]
     },
     "metadata": {
      "needs_background": "light"
     },
     "output_type": "display_data"
    }
   ],
   "source": [
    "for i in range(len(model_mic.scores_)):\n",
    "    print('Feature %d: %f' % (i, model_mic.scores_[i]))\n",
    "    \n",
    "plt.bar([i for i in range(len(model_mic.scores_))], model_mic.scores_)\n",
    "plt.show()  "
   ]
  },
  {
   "cell_type": "markdown",
   "id": "b2aba06c",
   "metadata": {},
   "source": [
    "# Decision tree"
   ]
  },
  {
   "cell_type": "code",
   "execution_count": 39,
   "id": "437a1415",
   "metadata": {},
   "outputs": [
    {
     "name": "stdout",
     "output_type": "stream",
     "text": [
      "0.974101088044535\n"
     ]
    }
   ],
   "source": [
    "from sklearn.tree import  DecisionTreeClassifier\n",
    "model_dt=DecisionTreeClassifier()\n",
    "model_dt.fit(X_res,Y_res)\n",
    "\n",
    "from sklearn.model_selection import cross_val_score\n",
    "results = cross_val_score(model_dt,X_res, Y_res)\n",
    "print(results.mean())"
   ]
  },
  {
   "cell_type": "code",
   "execution_count": 40,
   "id": "40edf409",
   "metadata": {},
   "outputs": [
    {
     "name": "stdout",
     "output_type": "stream",
     "text": [
      "Feature: 0, Score: 0.12252\n",
      "Feature: 1, Score: 0.01658\n",
      "Feature: 2, Score: 0.00437\n",
      "Feature: 3, Score: 0.01021\n",
      "Feature: 4, Score: 0.00057\n",
      "Feature: 5, Score: 0.02253\n",
      "Feature: 6, Score: 0.01741\n",
      "Feature: 7, Score: 0.29957\n",
      "Feature: 8, Score: 0.06852\n",
      "Feature: 9, Score: 0.04125\n",
      "Feature: 10, Score: 0.02866\n",
      "Feature: 11, Score: 0.04291\n",
      "Feature: 12, Score: 0.06508\n",
      "Feature: 13, Score: 0.05487\n",
      "Feature: 14, Score: 0.02603\n",
      "Feature: 15, Score: 0.05064\n",
      "Feature: 16, Score: 0.07176\n",
      "Feature: 17, Score: 0.05652\n"
     ]
    },
    {
     "data": {
      "image/png": "[encoded data removed]",
      "text/plain": [
       "<Figure size 432x288 with 1 Axes>"
      ]
     },
     "metadata": {
      "needs_background": "light"
     },
     "output_type": "display_data"
    }
   ],
   "source": [
    " #get importance\n",
    "imp = model_dt.feature_importances_\n",
    "#summarize feature importance\n",
    "for i,v in enumerate(imp):\n",
    "    print('Feature: %0d, Score: %.5f' % (i,v))\n",
    "#plot feature importance\n",
    "plt.bar([a for a in range(len(imp))], imp)\n",
    "plt.show()"
   ]
  },
  {
   "cell_type": "code",
   "execution_count": null,
   "id": "9e5cf1bd",
   "metadata": {},
   "outputs": [],
   "source": []
  },
  {
   "cell_type": "markdown",
   "id": "d8356d66",
   "metadata": {},
   "source": [
    "# Final columns to be dropped are as follows¶"
   ]
  },
  {
   "cell_type": "code",
   "execution_count": 41,
   "id": "7edb3b18",
   "metadata": {},
   "outputs": [
    {
     "data": {
      "text/plain": [
       "(141712, 19)"
      ]
     },
     "execution_count": 41,
     "metadata": {},
     "output_type": "execute_result"
    }
   ],
   "source": [
    "df.shape"
   ]
  },
  {
   "cell_type": "code",
   "execution_count": 42,
   "id": "d28881eb",
   "metadata": {},
   "outputs": [
    {
     "data": {
      "text/plain": [
       "(141712, 11)"
      ]
     },
     "execution_count": 42,
     "metadata": {},
     "output_type": "execute_result"
    }
   ],
   "source": [
    "df = df.drop(columns=['active', 'reassignment_count','reopen_count', 'sys_mod_count', 'made_sla', 'category','closed_code','location'])\n",
    "df.shape"
   ]
  },
  {
   "cell_type": "code",
   "execution_count": 43,
   "id": "7f6bc260",
   "metadata": {},
   "outputs": [],
   "source": [
    "new_data =df"
   ]
  },
  {
   "cell_type": "code",
   "execution_count": 44,
   "id": "0363fa52",
   "metadata": {},
   "outputs": [
    {
     "data": {
      "text/plain": [
       "Index(['number', 'incident_state', 'opened_by', 'opened_at', 'sys_updated_by',\n",
       "       'sys_updated_at', 'subcategory', 'impact', 'resolved_by', 'resolved_at',\n",
       "       'closed_at'],\n",
       "      dtype='object')"
      ]
     },
     "execution_count": 44,
     "metadata": {},
     "output_type": "execute_result"
    }
   ],
   "source": [
    "new_data.columns"
   ]
  },
  {
   "cell_type": "code",
   "execution_count": 45,
   "id": "64427681",
   "metadata": {},
   "outputs": [
    {
     "data": {
      "text/html": [
       "<div>\n",
       "<style scoped>\n",
       "    .dataframe tbody tr th:only-of-type {\n",
       "        vertical-align: middle;\n",
       "    }\n",
       "\n",
       "    .dataframe tbody tr th {\n",
       "        vertical-align: top;\n",
       "    }\n",
       "\n",
       "    .dataframe thead th {\n",
       "        text-align: right;\n",
       "    }\n",
       "</style>\n",
       "<table border=\"1\" class=\"dataframe\">\n",
       "  <thead>\n",
       "    <tr style=\"text-align: right;\">\n",
       "      <th></th>\n",
       "      <th>number</th>\n",
       "      <th>incident_state</th>\n",
       "      <th>opened_by</th>\n",
       "      <th>opened_at</th>\n",
       "      <th>sys_updated_by</th>\n",
       "      <th>sys_updated_at</th>\n",
       "      <th>subcategory</th>\n",
       "      <th>impact</th>\n",
       "      <th>resolved_by</th>\n",
       "      <th>resolved_at</th>\n",
       "      <th>closed_at</th>\n",
       "    </tr>\n",
       "  </thead>\n",
       "  <tbody>\n",
       "    <tr>\n",
       "      <th>0</th>\n",
       "      <td>0</td>\n",
       "      <td>7</td>\n",
       "      <td>201</td>\n",
       "      <td>12990</td>\n",
       "      <td>104</td>\n",
       "      <td>33112</td>\n",
       "      <td>70</td>\n",
       "      <td>1</td>\n",
       "      <td>52</td>\n",
       "      <td>12244</td>\n",
       "      <td>2209</td>\n",
       "    </tr>\n",
       "    <tr>\n",
       "      <th>1</th>\n",
       "      <td>0</td>\n",
       "      <td>8</td>\n",
       "      <td>201</td>\n",
       "      <td>12990</td>\n",
       "      <td>509</td>\n",
       "      <td>33150</td>\n",
       "      <td>70</td>\n",
       "      <td>1</td>\n",
       "      <td>52</td>\n",
       "      <td>12244</td>\n",
       "      <td>2209</td>\n",
       "    </tr>\n",
       "    <tr>\n",
       "      <th>2</th>\n",
       "      <td>0</td>\n",
       "      <td>8</td>\n",
       "      <td>201</td>\n",
       "      <td>12990</td>\n",
       "      <td>658</td>\n",
       "      <td>33241</td>\n",
       "      <td>70</td>\n",
       "      <td>1</td>\n",
       "      <td>52</td>\n",
       "      <td>12244</td>\n",
       "      <td>2209</td>\n",
       "    </tr>\n",
       "    <tr>\n",
       "      <th>3</th>\n",
       "      <td>0</td>\n",
       "      <td>6</td>\n",
       "      <td>201</td>\n",
       "      <td>12990</td>\n",
       "      <td>762</td>\n",
       "      <td>41838</td>\n",
       "      <td>70</td>\n",
       "      <td>1</td>\n",
       "      <td>52</td>\n",
       "      <td>12244</td>\n",
       "      <td>2209</td>\n",
       "    </tr>\n",
       "    <tr>\n",
       "      <th>4</th>\n",
       "      <td>1</td>\n",
       "      <td>7</td>\n",
       "      <td>121</td>\n",
       "      <td>12991</td>\n",
       "      <td>605</td>\n",
       "      <td>33113</td>\n",
       "      <td>113</td>\n",
       "      <td>1</td>\n",
       "      <td>197</td>\n",
       "      <td>40</td>\n",
       "      <td>2317</td>\n",
       "    </tr>\n",
       "  </tbody>\n",
       "</table>\n",
       "</div>"
      ],
      "text/plain": [
       "   number  incident_state  opened_by  opened_at  sys_updated_by  \\\n",
       "0       0               7        201      12990             104   \n",
       "1       0               8        201      12990             509   \n",
       "2       0               8        201      12990             658   \n",
       "3       0               6        201      12990             762   \n",
       "4       1               7        121      12991             605   \n",
       "\n",
       "   sys_updated_at  subcategory  impact  resolved_by  resolved_at  closed_at  \n",
       "0           33112           70       1           52        12244       2209  \n",
       "1           33150           70       1           52        12244       2209  \n",
       "2           33241           70       1           52        12244       2209  \n",
       "3           41838           70       1           52        12244       2209  \n",
       "4           33113          113       1          197           40       2317  "
      ]
     },
     "execution_count": 45,
     "metadata": {},
     "output_type": "execute_result"
    }
   ],
   "source": [
    "new_data.head()"
   ]
  },
  {
   "cell_type": "code",
   "execution_count": 46,
   "id": "da195c59",
   "metadata": {},
   "outputs": [],
   "source": [
    "x_train, y_train, x_valid, y_valid, x_test, y_test = train_valid_test_split(new_data, target ='impact', train_size=0.8, valid_size=0.1, test_size=0.1)"
   ]
  },
  {
   "cell_type": "code",
   "execution_count": 47,
   "id": "7487f07e",
   "metadata": {},
   "outputs": [
    {
     "name": "stdout",
     "output_type": "stream",
     "text": [
      "(113369, 10)\n",
      "(113369,)\n",
      "(14172, 10)\n",
      "(14172,)\n",
      "(14171, 10)\n",
      "(14171,)\n"
     ]
    },
    {
     "data": {
      "text/plain": [
       "(None, None)"
      ]
     },
     "execution_count": 47,
     "metadata": {},
     "output_type": "execute_result"
    }
   ],
   "source": [
    "print(x_train.shape), print( y_train.shape)\n",
    "print(x_test.shape), print( y_test.shape)\n",
    "print(x_valid.shape), print(y_valid.shape)"
   ]
  },
  {
   "cell_type": "code",
   "execution_count": 48,
   "id": "b427c657",
   "metadata": {},
   "outputs": [],
   "source": [
    "x_train_1,x_test_1,y_train_1,y_test_1 = train_test_split(x_train,y_train,test_size=0.2, random_state=42)"
   ]
  },
  {
   "cell_type": "code",
   "execution_count": 49,
   "id": "7766d3e3",
   "metadata": {},
   "outputs": [
    {
     "name": "stdout",
     "output_type": "stream",
     "text": [
      "(90695, 10)\n",
      "(90695,)\n"
     ]
    },
    {
     "data": {
      "text/plain": [
       "(None, None)"
      ]
     },
     "execution_count": 49,
     "metadata": {},
     "output_type": "execute_result"
    }
   ],
   "source": [
    "print(x_train_1.shape), print(y_train_1.shape)"
   ]
  },
  {
   "cell_type": "code",
   "execution_count": 50,
   "id": "767f4489",
   "metadata": {},
   "outputs": [
    {
     "name": "stdout",
     "output_type": "stream",
     "text": [
      "Class=2, n=2544 (2.805%)\n"
     ]
    },
    {
     "data": {
      "image/png": "[encoded data removed]",
      "text/plain": [
       "<Figure size 432x288 with 1 Axes>"
      ]
     },
     "metadata": {
      "needs_background": "light"
     },
     "output_type": "display_data"
    }
   ],
   "source": [
    "# summarize distribution\n",
    "counter = Counter(y_train_1)\n",
    "for k,v in counter.items():\n",
    "    per = v / len(y_train_1) * 100\n",
    "print('Class=%d, n=%d (%.3f%%)' % (k, v, per))\n",
    "# plot the distribution\n",
    "plt.bar(counter.keys(), counter.values())\n",
    "plt.show()"
   ]
  },
  {
   "cell_type": "code",
   "execution_count": 51,
   "id": "86775240",
   "metadata": {},
   "outputs": [],
   "source": [
    "x_res, y_res = smt.fit_resample(x_train_1, y_train_1)"
   ]
  },
  {
   "cell_type": "code",
   "execution_count": 52,
   "id": "9021f229",
   "metadata": {},
   "outputs": [
    {
     "name": "stdout",
     "output_type": "stream",
     "text": [
      "Class=2, n=85968 (33.333%)\n"
     ]
    },
    {
     "data": {
      "image/png": "[encoded data removed]",
      "text/plain": [
       "<Figure size 432x288 with 1 Axes>"
      ]
     },
     "metadata": {
      "needs_background": "light"
     },
     "output_type": "display_data"
    }
   ],
   "source": [
    "# summarize distribution\n",
    "counter = Counter(y_res)\n",
    "for k,v in counter.items():\n",
    "    per = v / len(y_res) * 100\n",
    "print('Class=%d, n=%d (%.3f%%)' % (k, v, per))\n",
    "# plot the distribution\n",
    "plt.bar(counter.keys(), counter.values())\n",
    "plt.show()"
   ]
  },
  {
   "cell_type": "code",
   "execution_count": 53,
   "id": "bca9337e",
   "metadata": {},
   "outputs": [
    {
     "name": "stdout",
     "output_type": "stream",
     "text": [
      "<class 'pandas.core.frame.DataFrame'>\n",
      "RangeIndex: 141712 entries, 0 to 141711\n",
      "Data columns (total 11 columns):\n",
      " #   Column          Non-Null Count   Dtype\n",
      "---  ------          --------------   -----\n",
      " 0   number          141712 non-null  int32\n",
      " 1   incident_state  141712 non-null  int32\n",
      " 2   opened_by       141712 non-null  int32\n",
      " 3   opened_at       141712 non-null  int32\n",
      " 4   sys_updated_by  141712 non-null  int32\n",
      " 5   sys_updated_at  141712 non-null  int32\n",
      " 6   subcategory     141712 non-null  int32\n",
      " 7   impact          141712 non-null  int32\n",
      " 8   resolved_by     141712 non-null  int32\n",
      " 9   resolved_at     141712 non-null  int32\n",
      " 10  closed_at       141712 non-null  int32\n",
      "dtypes: int32(11)\n",
      "memory usage: 5.9 MB\n"
     ]
    }
   ],
   "source": [
    "new_data.info()"
   ]
  },
  {
   "cell_type": "markdown",
   "id": "986162ce",
   "metadata": {},
   "source": [
    "# MODEL BUILDING ALGORITHMS"
   ]
  },
  {
   "cell_type": "markdown",
   "id": "53e7cd11",
   "metadata": {},
   "source": [
    "# Decision Tree"
   ]
  },
  {
   "cell_type": "code",
   "execution_count": 54,
   "id": "7fc9fde1",
   "metadata": {},
   "outputs": [
    {
     "name": "stdout",
     "output_type": "stream",
     "text": [
      "0.9550145541148451\n",
      "[[  417   153    17]\n",
      " [  504 20751   269]\n",
      " [   11    66   486]]\n",
      "              precision    recall  f1-score   support\n",
      "\n",
      "           0       0.45      0.71      0.55       587\n",
      "           1       0.99      0.96      0.98     21524\n",
      "           2       0.63      0.86      0.73       563\n",
      "\n",
      "    accuracy                           0.96     22674\n",
      "   macro avg       0.69      0.85      0.75     22674\n",
      "weighted avg       0.97      0.96      0.96     22674\n",
      "\n"
     ]
    }
   ],
   "source": [
    "from sklearn.tree import  DecisionTreeClassifier\n",
    "model_dt=DecisionTreeClassifier()\n",
    "model_dt.fit(x_res,y_res)\n",
    "\n",
    "from sklearn.metrics import accuracy_score, classification_report, confusion_matrix\n",
    "y_pred = model_dt.predict(x_test_1)\n",
    "print(accuracy_score(y_test_1, y_pred))\n",
    "print(confusion_matrix(y_test_1, y_pred))\n",
    "print(classification_report(y_test_1, y_pred))\n",
    "\n",
    "#0-high\n",
    "#1-medium\n",
    "#2-low"
   ]
  },
  {
   "cell_type": "code",
   "execution_count": 55,
   "id": "06d0f601",
   "metadata": {},
   "outputs": [
    {
     "name": "stdout",
     "output_type": "stream",
     "text": [
      "Accuracy: 0.944 (0.005)\n"
     ]
    }
   ],
   "source": [
    "from sklearn.model_selection import KFold\n",
    "from numpy import mean\n",
    "from numpy import std\n",
    "# prepare the cross-validation procedure\n",
    "cv = KFold(n_splits=10, random_state=1, shuffle=True)\n",
    "# evaluate model\n",
    "scores = cross_val_score(model_dt,x_valid, y_valid, scoring='accuracy', cv=cv)\n",
    "# report performance\n",
    "print('Accuracy: %.3f (%.3f)' % (mean(scores), std(scores)))"
   ]
  },
  {
   "cell_type": "code",
   "execution_count": 56,
   "id": "f508857b",
   "metadata": {},
   "outputs": [
    {
     "name": "stdout",
     "output_type": "stream",
     "text": [
      "0.9541349139147615\n",
      "[[  261    91     8]\n",
      " [  303 12908   205]\n",
      " [    6    37   353]]\n"
     ]
    }
   ],
   "source": [
    "from sklearn.metrics import accuracy_score, classification_report, confusion_matrix\n",
    "y_pred = model_dt.predict(x_test)\n",
    "print(accuracy_score(y_test, y_pred))\n",
    "print(confusion_matrix(y_test, y_pred))"
   ]
  },
  {
   "cell_type": "markdown",
   "id": "e52afd1c",
   "metadata": {},
   "source": [
    "# Random Forest"
   ]
  },
  {
   "cell_type": "code",
   "execution_count": 57,
   "id": "e8e76ff8",
   "metadata": {},
   "outputs": [
    {
     "name": "stdout",
     "output_type": "stream",
     "text": [
      "0.9722589750374879\n",
      "[[  415   164     8]\n",
      " [  216 21187   121]\n",
      " [    2   118   443]]\n",
      "              precision    recall  f1-score   support\n",
      "\n",
      "           0       0.66      0.71      0.68       587\n",
      "           1       0.99      0.98      0.99     21524\n",
      "           2       0.77      0.79      0.78       563\n",
      "\n",
      "    accuracy                           0.97     22674\n",
      "   macro avg       0.81      0.83      0.82     22674\n",
      "weighted avg       0.97      0.97      0.97     22674\n",
      "\n"
     ]
    }
   ],
   "source": [
    "from sklearn.ensemble import RandomForestClassifier\n",
    "num_trees = 10\n",
    "model_rf = RandomForestClassifier(n_estimators=num_trees)\n",
    "model_rf.fit(x_res,y_res)\n",
    "\n",
    "from sklearn.metrics import accuracy_score, classification_report, confusion_matrix\n",
    "y_pred = model_rf.predict(x_test_1)\n",
    "print(accuracy_score(y_test_1, y_pred))\n",
    "print(confusion_matrix(y_test_1, y_pred))\n",
    "print(classification_report(y_test_1, y_pred))"
   ]
  },
  {
   "cell_type": "code",
   "execution_count": 58,
   "id": "5043d595",
   "metadata": {},
   "outputs": [
    {
     "name": "stdout",
     "output_type": "stream",
     "text": [
      "Accuracy: 0.960 (0.004)\n"
     ]
    }
   ],
   "source": [
    "# prepare the cross-validation procedure\n",
    "cv = KFold(n_splits=10, random_state=1, shuffle=True)\n",
    "# evaluate model\n",
    "scores = cross_val_score(model_rf,x_valid, y_valid, scoring='accuracy', cv=cv)\n",
    "# report performance\n",
    "print('Accuracy: %.3f (%.3f)' % (mean(scores), std(scores)))"
   ]
  },
  {
   "cell_type": "code",
   "execution_count": 59,
   "id": "85a90cd7",
   "metadata": {},
   "outputs": [
    {
     "name": "stdout",
     "output_type": "stream",
     "text": [
      "0.9730454417160599\n",
      "[[  250   106     4]\n",
      " [  118 13213    85]\n",
      " [    4    65   327]]\n"
     ]
    }
   ],
   "source": [
    "from sklearn.metrics import accuracy_score, classification_report, confusion_matrix\n",
    "y_pred = model_rf.predict(x_test)\n",
    "print(accuracy_score(y_test, y_pred))\n",
    "print(confusion_matrix(y_test, y_pred))"
   ]
  },
  {
   "cell_type": "markdown",
   "id": "de4ff66a",
   "metadata": {},
   "source": [
    "# KNeighbour Classification"
   ]
  },
  {
   "cell_type": "code",
   "execution_count": 60,
   "id": "cc8767e9",
   "metadata": {},
   "outputs": [
    {
     "data": {
      "text/plain": [
       "0.9503836993913733"
      ]
     },
     "execution_count": 60,
     "metadata": {},
     "output_type": "execute_result"
    }
   ],
   "source": [
    "from sklearn.model_selection import train_test_split\n",
    "from sklearn.neighbors import KNeighborsClassifier\n",
    "from sklearn import metrics\n",
    "\n",
    "knnclassifier = KNeighborsClassifier(n_neighbors=7)\n",
    "knnclassifier.fit(x_train_1,y_train_1)\n",
    "y_pred_knn = knnclassifier.predict(x_test_1)\n",
    "metrics.accuracy_score(y_test_1,y_pred_knn)"
   ]
  },
  {
   "cell_type": "code",
   "execution_count": 61,
   "id": "1950f46c",
   "metadata": {},
   "outputs": [
    {
     "name": "stdout",
     "output_type": "stream",
     "text": [
      "0.947605471962184\n"
     ]
    }
   ],
   "source": [
    "from sklearn.model_selection import cross_val_score\n",
    "knnclassifier = KNeighborsClassifier(n_neighbors=7)\n",
    "print(cross_val_score(knnclassifier, X_test_1, Y_test_1, cv=10, scoring ='accuracy').mean())"
   ]
  },
  {
   "cell_type": "code",
   "execution_count": 62,
   "id": "01455e7a",
   "metadata": {},
   "outputs": [
    {
     "name": "stdout",
     "output_type": "stream",
     "text": [
      "              precision    recall  f1-score   support\n",
      "\n",
      "           0       0.53      0.16      0.24       587\n",
      "           1       0.96      0.99      0.97     21524\n",
      "           2       0.52      0.17      0.26       563\n",
      "\n",
      "    accuracy                           0.95     22674\n",
      "   macro avg       0.67      0.44      0.49     22674\n",
      "weighted avg       0.94      0.95      0.94     22674\n",
      "\n"
     ]
    }
   ],
   "source": [
    "print(classification_report(y_test_1,y_pred_knn))"
   ]
  },
  {
   "cell_type": "markdown",
   "id": "a4171233",
   "metadata": {},
   "source": [
    "# Naive byes "
   ]
  },
  {
   "cell_type": "code",
   "execution_count": 63,
   "id": "d68eb515",
   "metadata": {},
   "outputs": [],
   "source": [
    "from sklearn.preprocessing import RobustScaler"
   ]
  },
  {
   "cell_type": "code",
   "execution_count": 64,
   "id": "d6f89df1",
   "metadata": {},
   "outputs": [],
   "source": [
    "from sklearn.naive_bayes import GaussianNB"
   ]
  },
  {
   "cell_type": "code",
   "execution_count": 65,
   "id": "ff501b9b",
   "metadata": {},
   "outputs": [
    {
     "name": "stdout",
     "output_type": "stream",
     "text": [
      "(22674, 10)\n",
      "(22674,)\n"
     ]
    }
   ],
   "source": [
    "print(x_test_1.shape)\n",
    "print(y_test_1.shape)"
   ]
  },
  {
   "cell_type": "code",
   "execution_count": 66,
   "id": "0ba604a6",
   "metadata": {},
   "outputs": [
    {
     "data": {
      "text/plain": [
       "GaussianNB()"
      ]
     },
     "execution_count": 66,
     "metadata": {},
     "output_type": "execute_result"
    }
   ],
   "source": [
    "from sklearn.naive_bayes import GaussianNB\n",
    "model_nb = GaussianNB()\n",
    "model_nb.fit(x_res,y_res)"
   ]
  },
  {
   "cell_type": "code",
   "execution_count": 67,
   "id": "2a5f614e",
   "metadata": {},
   "outputs": [
    {
     "name": "stdout",
     "output_type": "stream",
     "text": [
      "0.32010231983769954\n",
      "[[ 268  137  182]\n",
      " [6364 6651 8509]\n",
      " [  97  127  339]]\n",
      "              precision    recall  f1-score   support\n",
      "\n",
      "           0       0.04      0.46      0.07       587\n",
      "           1       0.96      0.31      0.47     21524\n",
      "           2       0.04      0.60      0.07       563\n",
      "\n",
      "    accuracy                           0.32     22674\n",
      "   macro avg       0.35      0.46      0.20     22674\n",
      "weighted avg       0.92      0.32      0.45     22674\n",
      "\n"
     ]
    }
   ],
   "source": [
    "from sklearn.metrics import accuracy_score, classification_report, confusion_matrix\n",
    "y_pred = model_nb.predict(x_test_1)\n",
    "print(accuracy_score(y_test_1, y_pred))\n",
    "print(confusion_matrix(y_test_1, y_pred))\n",
    "print(classification_report(y_test_1, y_pred))"
   ]
  },
  {
   "cell_type": "markdown",
   "id": "1c274083",
   "metadata": {},
   "source": [
    "# SVM"
   ]
  },
  {
   "cell_type": "markdown",
   "id": "e79d9753",
   "metadata": {},
   "source": [
    "from sklearn.feature_extraction.text import CountVectorizer, TfidfVectorizer\n",
    "from sklearn import svm\n",
    "from sklearn.svm import SVC\n",
    "from sklearn.model_selection import GridSearchCV"
   ]
  },
  {
   "cell_type": "markdown",
   "id": "c05e0f24",
   "metadata": {},
   "source": [
    "from sklearn.svm import SVC\n",
    "\n",
    "model_svc= SVC(kernel='linear', probability=True, class_weight='balanced')\n",
    "model_svc.fit(x_res,y_res)\n",
    "\n",
    "from sklearn.metrics import accuracy_score, classification_report, confusion_matrix\n",
    "y_pred = model_svc.predict(x_test_1)\n",
    "print(accuracy_score(y_test_1, y_pred))\n",
    "print(confusion_matrix(y_test_1, y_pred))\n",
    "print(classification_report(y_test_1, y_pred))"
   ]
  },
  {
   "cell_type": "markdown",
   "id": "e208338e",
   "metadata": {},
   "source": [
    "# XGBClassifier"
   ]
  },
  {
   "cell_type": "code",
   "execution_count": 68,
   "id": "5fa8754e",
   "metadata": {},
   "outputs": [
    {
     "name": "stdout",
     "output_type": "stream",
     "text": [
      "Requirement already satisfied: xgboost in c:\\users\\parth\\anaconda3\\lib\\site-packages (1.5.2)\n",
      "Requirement already satisfied: scipy in c:\\users\\parth\\anaconda3\\lib\\site-packages (from xgboost) (1.6.2)\n",
      "Requirement already satisfied: numpy in c:\\users\\parth\\anaconda3\\lib\\site-packages (from xgboost) (1.20.1)\n"
     ]
    }
   ],
   "source": [
    "!pip install xgboost"
   ]
  },
  {
   "cell_type": "code",
   "execution_count": 69,
   "id": "2850f122",
   "metadata": {},
   "outputs": [
    {
     "name": "stdout",
     "output_type": "stream",
     "text": [
      "Requirement already satisfied: lightgbm in c:\\users\\parth\\anaconda3\\lib\\site-packages (3.3.2)\n",
      "Requirement already satisfied: scikit-learn!=0.22.0 in c:\\users\\parth\\anaconda3\\lib\\site-packages (from lightgbm) (1.0.2)\n",
      "Requirement already satisfied: numpy in c:\\users\\parth\\anaconda3\\lib\\site-packages (from lightgbm) (1.20.1)\n",
      "Requirement already satisfied: wheel in c:\\users\\parth\\anaconda3\\lib\\site-packages (from lightgbm) (0.36.2)\n",
      "Requirement already satisfied: scipy in c:\\users\\parth\\anaconda3\\lib\\site-packages (from lightgbm) (1.6.2)\n",
      "Requirement already satisfied: joblib>=0.11 in c:\\users\\parth\\anaconda3\\lib\\site-packages (from scikit-learn!=0.22.0->lightgbm) (1.0.1)\n",
      "Requirement already satisfied: threadpoolctl>=2.0.0 in c:\\users\\parth\\anaconda3\\lib\\site-packages (from scikit-learn!=0.22.0->lightgbm) (2.1.0)\n"
     ]
    }
   ],
   "source": [
    "!pip install lightgbm"
   ]
  },
  {
   "cell_type": "code",
   "execution_count": 70,
   "id": "120c87a1",
   "metadata": {},
   "outputs": [],
   "source": [
    "from numpy import loadtxt\n",
    "from xgboost import XGBClassifier"
   ]
  },
  {
   "cell_type": "code",
   "execution_count": 71,
   "id": "25b57fb0",
   "metadata": {},
   "outputs": [
    {
     "name": "stdout",
     "output_type": "stream",
     "text": [
      "[14:05:11] WARNING: C:/Users/Administrator/workspace/xgboost-win64_release_1.5.1/src/learner.cc:1115: Starting in XGBoost 1.3.0, the default evaluation metric used with the objective 'multi:softprob' was changed from 'merror' to 'mlogloss'. Explicitly set eval_metric if you'd like to restore the old behavior.\n"
     ]
    },
    {
     "data": {
      "text/plain": [
       "XGBClassifier(base_score=0.5, booster='gbtree', colsample_bylevel=1,\n",
       "              colsample_bynode=1, colsample_bytree=1, enable_categorical=False,\n",
       "              gamma=0, gpu_id=-1, importance_type=None,\n",
       "              interaction_constraints='', learning_rate=0.300000012,\n",
       "              max_delta_step=0, max_depth=3, min_child_weight=1, missing=nan,\n",
       "              monotone_constraints='()', n_estimators=90, n_jobs=8,\n",
       "              num_parallel_tree=1, objective='multi:softprob', predictor='auto',\n",
       "              random_state=0, reg_alpha=0, reg_lambda=1, scale_pos_weight=None,\n",
       "              subsample=1, tree_method='exact', validate_parameters=1,\n",
       "              verbosity=None)"
      ]
     },
     "execution_count": 71,
     "metadata": {},
     "output_type": "execute_result"
    }
   ],
   "source": [
    "# fit model to training data\n",
    "model = XGBClassifier(n_estimators=90,max_depth=3)\n",
    "model.fit(x_res, y_res)"
   ]
  },
  {
   "cell_type": "code",
   "execution_count": 72,
   "id": "f25d5771",
   "metadata": {},
   "outputs": [],
   "source": [
    "# make predictions for test data\n",
    "y_pred_xgb = model.predict(x_test_1)\n",
    "predictions = [round(value) for value in y_pred_xgb]"
   ]
  },
  {
   "cell_type": "code",
   "execution_count": 73,
   "id": "729a5a65",
   "metadata": {},
   "outputs": [
    {
     "name": "stdout",
     "output_type": "stream",
     "text": [
      "Accuracy: 83.75%\n"
     ]
    }
   ],
   "source": [
    "# evaluate predictions\n",
    "accuracy = accuracy_score(y_test_1, y_pred_xgb)\n",
    "print(\"Accuracy: %.2f%%\" % (accuracy * 100.0))"
   ]
  },
  {
   "cell_type": "code",
   "execution_count": 74,
   "id": "0c3b5d02",
   "metadata": {},
   "outputs": [
    {
     "name": "stdout",
     "output_type": "stream",
     "text": [
      "              precision    recall  f1-score   support\n",
      "\n",
      "           0       0.15      0.60      0.24       587\n",
      "           1       0.99      0.84      0.91     21524\n",
      "           2       0.25      0.85      0.38       563\n",
      "\n",
      "    accuracy                           0.84     22674\n",
      "   macro avg       0.46      0.76      0.51     22674\n",
      "weighted avg       0.95      0.84      0.88     22674\n",
      "\n"
     ]
    }
   ],
   "source": [
    "print(classification_report(y_test_1, y_pred_xgb))"
   ]
  },
  {
   "cell_type": "markdown",
   "id": "b0812a6d",
   "metadata": {},
   "source": [
    "# Logistic Regression"
   ]
  },
  {
   "cell_type": "code",
   "execution_count": 75,
   "id": "a033b411",
   "metadata": {},
   "outputs": [],
   "source": [
    "from sklearn.linear_model import LogisticRegression"
   ]
  },
  {
   "cell_type": "code",
   "execution_count": 76,
   "id": "9980d925",
   "metadata": {},
   "outputs": [
    {
     "data": {
      "text/plain": [
       "LogisticRegression()"
      ]
     },
     "execution_count": 76,
     "metadata": {},
     "output_type": "execute_result"
    }
   ],
   "source": [
    "classifier = LogisticRegression()\n",
    "classifier.fit(x_res,y_res)"
   ]
  },
  {
   "cell_type": "code",
   "execution_count": 77,
   "id": "32687934",
   "metadata": {},
   "outputs": [],
   "source": [
    "y_pred_logis = classifier.predict(x_test_1)"
   ]
  },
  {
   "cell_type": "code",
   "execution_count": 78,
   "id": "00a50cba",
   "metadata": {},
   "outputs": [
    {
     "name": "stdout",
     "output_type": "stream",
     "text": [
      "0.2715886036870424\n"
     ]
    }
   ],
   "source": [
    "print(accuracy_score(y_test_1, y_pred_logis))"
   ]
  },
  {
   "cell_type": "code",
   "execution_count": 79,
   "id": "d00869af",
   "metadata": {},
   "outputs": [
    {
     "name": "stdout",
     "output_type": "stream",
     "text": [
      "              precision    recall  f1-score   support\n",
      "\n",
      "           0       0.03      0.51      0.06       587\n",
      "           1       0.96      0.26      0.41     21524\n",
      "           2       0.04      0.59      0.08       563\n",
      "\n",
      "    accuracy                           0.27     22674\n",
      "   macro avg       0.35      0.45      0.18     22674\n",
      "weighted avg       0.91      0.27      0.39     22674\n",
      "\n"
     ]
    }
   ],
   "source": [
    "print(classification_report(y_test_1, y_pred_logis))"
   ]
  },
  {
   "cell_type": "code",
   "execution_count": 80,
   "id": "2bcb6c5d",
   "metadata": {},
   "outputs": [],
   "source": [
    "import pickle"
   ]
  },
  {
   "cell_type": "code",
   "execution_count": 81,
   "id": "132ff068",
   "metadata": {},
   "outputs": [],
   "source": [
    "### Create a Pickle file using serialization \n",
    "import pickle\n",
    "pickle_out = open(\"randomforest.pkl\",\"wb\")\n",
    "pickle.dump(model_rf, pickle_out)\n",
    "pickle_out.close()"
   ]
  },
  {
   "cell_type": "code",
   "execution_count": null,
   "id": "c33e97c7",
   "metadata": {},
   "outputs": [],
   "source": []
  },
  {
   "cell_type": "code",
   "execution_count": null,
   "id": "df43a270",
   "metadata": {},
   "outputs": [],
   "source": []
  }
 ],
 "metadata": {
  "gist": {
   "data": {
    "description": "IMPACT ON INCIDENT PREDICTION.ipynb",
    "public": true
   },
   "id": ""
  },
  "kernelspec": {
   "display_name": "Python 3",
   "language": "python",
   "name": "python3"
  },
  "language_info": {
   "codemirror_mode": {
    "name": "ipython",
    "version": 3
   },
   "file_extension": ".py",
   "mimetype": "text/x-python",
   "name": "python",
   "nbconvert_exporter": "python",
   "pygments_lexer": "ipython3",
   "version": "3.8.8"
  }
 },
 "nbformat": 4,
 "nbformat_minor": 5
}
